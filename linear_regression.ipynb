{
 "cells": [
  {
   "cell_type": "markdown",
   "metadata": {},
   "source": [
    "Multilevel modeling\n",
    "====\n",
    "\n",
    "<blockquote>\n",
    "Classical estimation just using the local information can be essentially useless if the sample size is small in the group. At the other extreme, a classical regression ignoring group indicators can be misleading in ignoring group-level variation. Multilevel modeling allows the estimation of group averages and group-level effects, compromising between the overly noisy within-group estimate and the oversimplified regression estimate that ignores group indicators.\n",
    "<br><br>\n",
    "- Gelman and Hill, p.6\n",
    "</blockquote>"
   ]
  },
  {
   "cell_type": "markdown",
   "metadata": {},
   "source": [
    "Basic probability and statistics\n",
    "====\n",
    "\n",
    "The ***standard error*** is the standard deviation of the parameter estimate and gives us a sense of our uncertainty about a parameter.\n",
    "\n",
    "When estimating the mean of an infinite population, given a simple random sample of size $n$, the standard error is $\\sqrt{\\sigma/n}$, where σ is the standard deviation of the measurements in the population.\n",
    "\n",
    "### Dispersion\n",
    "\n",
    "The ratio of variance/mean is thus a measure of dispersion, with var/mean = 1 indicating that the Poisson model is appropriate, and var/mean > 1 indicating overdispersion (and var/mean < 1 indicating underdispersion, but in practice this is much less common).\n",
    "\n",
    "### Hypothesis tests: multiple comparison procedures\n",
    "\n",
    "A concern is sometimes expressed that if you test a large number of hypotheses, then you’re bound to reject some. For example, with 100 different hypothesis tests, you would expect about 5 to be statistically significant at the 5% level—even if all the hypotheses were true. This concern is sometimes allayed by multiple comparisons procedures, which adjust significance levels to account for the multiplicity of tests."
   ]
  },
  {
   "cell_type": "markdown",
   "metadata": {},
   "source": [
    "Linear regression\n",
    "====\n",
    "\n",
    "<blockquote>\n",
    "Regression coefficients are more complicated to interpret with multiple predictors because the interpretation for any given coefficient is, in part, contingent on the other variables in the model. Typical advice is to interpret each coefficient “with all the other predictors held constant.”\n",
    "<br><br>\n",
    "- Gelman and Hill, p.32\n",
    "</blockquote>\n",
    "\n",
    "It is useful to realize that $\\hat{\\beta}$ is a linear function of the outcomes $y$:\n",
    "\n",
    "$$\\hat{\\beta} = \\left(X^tX\\right)^{-1}X^ty$$\n",
    "\n",
    "The ***proportion of explained variance***:\n",
    "\n",
    "$$ R^2 = 1 - \\hat{\\sigma}^2/s_y^2 $$\n",
    "\n",
    "where $\\hat{\\sigma}$ is the residual variance and $s_y^2$ is the variance in the data.\n",
    "\n",
    "Interpreting the proportion of explained variance can be tricky because its numerator and denominator can be changed in different ways.\n",
    "\n",
    "Assumptions\n",
    "----\n",
    "\n",
    "* Validity:\n",
    "    - The outcome measure accurately reflects the phenomenon of interest.\n",
    "    - The model includes all relevant predictors.\n",
    "    - The model generalized to cases to which is will be applied.\n",
    "* Additivity and linearity:\n",
    "    - Can be imposed via transformations, e.g. $\\log(xyz)$.\n",
    "* Independence of errors\n",
    "* Equal variance of errors\n",
    "* Normality of errors\n",
    "\n",
    "A good way to diagnose violations of some of the assumptions just considered (importantly, linearity) is to plot the residuals $r_i$ versus fitted values $X_i\\hat{\\beta}$ or simply individual predictors $x_i$."
   ]
  },
  {
   "cell_type": "code",
   "execution_count": 38,
   "metadata": {},
   "outputs": [],
   "source": [
    "%matplotlib inline\n",
    "%config Completer.use_jedi = False\n",
    "\n",
    "import numpy as np\n",
    "from sklearn.linear_model import LinearRegression\n",
    "import matplotlib.pyplot as plt\n",
    "plt.style.use('dark_background')"
   ]
  },
  {
   "cell_type": "code",
   "execution_count": 90,
   "metadata": {},
   "outputs": [
    {
     "data": {
      "image/png": "[encoded data removed]",
      "text/plain": [
       "<Figure size 648x288 with 2 Axes>"
      ]
     },
     "metadata": {},
     "output_type": "display_data"
    }
   ],
   "source": [
    "N = 100\n",
    "D = 1\n",
    "epsilon = 0.5\n",
    "X = np.ones((D+1, N))\n",
    "X[:-1,:] = np.random.rand(D, N)\n",
    "beta = np.array([2, 1])\n",
    "y = X.T.dot(beta) + epsilon * np.random.randn(N)\n",
    "\n",
    "reg = LinearRegression().fit(X.T, y)\n",
    "beta_hat = reg.coef_\n",
    "beta_hat[-1] = reg.intercept_\n",
    "beta_hat = np.array(beta_hat)\n",
    "\n",
    "residuals = y - X.T.dot(beta_hat)\n",
    "\n",
    "fig, axs = plt.subplots(1, 2, figsize=(9, 4))\n",
    "plt.sca(axs[0])\n",
    "plt.scatter(X[:-1,:], y, color='gray', marker='x');\n",
    "plt.plot([0, 1], [1, 3], linestyle='--', color='gray', linewidth=3)\n",
    "plt.plot([beta_hat[-1], np.ones((1, 2)).dot(beta_hat)], linestyle='-', color='w')\n",
    "plt.sca(axs[1])\n",
    "plt.hist(residuals, bins=20, color='gray', edgecolor='k');"
   ]
  },
  {
   "cell_type": "code",
   "execution_count": null,
   "metadata": {},
   "outputs": [],
   "source": []
  }
 ],
 "metadata": {
  "kernelspec": {
   "display_name": "Python 2",
   "language": "python",
   "name": "python2"
  },
  "language_info": {
   "codemirror_mode": {
    "name": "ipython",
    "version": 3
   },
   "file_extension": ".py",
   "mimetype": "text/x-python",
   "name": "python",
   "nbconvert_exporter": "python",
   "pygments_lexer": "ipython3",
   "version": "3.6.7"
  }
 },
 "nbformat": 4,
 "nbformat_minor": 2
}
